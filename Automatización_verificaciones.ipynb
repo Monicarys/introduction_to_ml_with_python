{
  "nbformat": 4,
  "nbformat_minor": 0,
  "metadata": {
    "colab": {
      "name": "Automatización.ipynb",
      "provenance": [],
      "authorship_tag": "ABX9TyMMtcDYHPRnFuezJoSjVAYI",
      "include_colab_link": true
    },
    "kernelspec": {
      "name": "python3",
      "display_name": "Python 3"
    },
    "language_info": {
      "name": "python"
    }
  },
  "cells": [
    {
      "cell_type": "markdown",
      "metadata": {
        "id": "view-in-github",
        "colab_type": "text"
      },
      "source": [
        "<a href=\"https://colab.research.google.com/github/Monicarys/introduction_to_ml_with_python/blob/master/Automatizaci%C3%B3n_verificaciones.ipynb\" target=\"_parent\"><img src=\"https://colab.research.google.com/assets/colab-badge.svg\" alt=\"Open In Colab\"/></a>"
      ]
    },
    {
      "cell_type": "code",
      "execution_count": 10,
      "metadata": {
        "id": "iSoOQzQd2JlA"
      },
      "outputs": [],
      "source": [
        "import pandas as pd\n",
        "import os"
      ]
    },
    {
      "cell_type": "code",
      "source": [
        "#Muestra los archivos\n",
        "os.listdir()"
      ],
      "metadata": {
        "colab": {
          "base_uri": "https://localhost:8080/"
        },
        "id": "NAFrDn5X2KjA",
        "outputId": "82a64203-ba1e-4319-83d5-6c34c6ea6c9d"
      },
      "execution_count": 11,
      "outputs": [
        {
          "output_type": "execute_result",
          "data": {
            "text/plain": [
              "['.config', 'D_Aculco.xlsm', 'D_AcambaydeRuízCastañeda.xlsm', 'sample_data']"
            ]
          },
          "metadata": {},
          "execution_count": 11
        }
      ]
    },
    {
      "cell_type": "code",
      "source": [
        "#Hacemos una lista de los archivos\n",
        "archivos=[file for file in os.listdir() if \".xlsm\" in file]"
      ],
      "metadata": {
        "id": "KpQlwq2i2ZEY"
      },
      "execution_count": 12,
      "outputs": []
    },
    {
      "cell_type": "code",
      "source": [
        "for archivo in archivos:\n",
        "  df=pd.read_excel(archivo)\n",
        "  M1=df.iloc[11:49, 6:14]\n",
        "  M1si=(M1==\"si\").sum().sum()\n",
        "  M1no=(M1==\"no\").sum().sum()\n",
        "  print(archivo)\n",
        "  print(\"M1\")\n",
        "  print(\"Sis =\",M1si)\n",
        "  print(\"Nos =\",M1no)\n",
        "  print(\"Porcentaje de Cumplimiento:\", M1si /(M1si + M1no)*100 , \"%\" )\n",
        "  \n",
        "  M2=df.iloc[58:81, 6:14]\n",
        "  M2si=(M2==\"si\").sum().sum()\n",
        "  M2no=(M2==\"no\").sum().sum()\n",
        "  print(archivo)\n",
        "  print(\"M2\")\n",
        "  print(\"Sis =\",M2si)\n",
        "  print(\"Nos =\",M2no)\n",
        "  print(\"Porcentaje de Cumplimiento:\", M2si /(M2si + M2no)*100 , \"%\" )\n",
        "\n",
        "  M3=df.iloc[89:98, 6:14]\n",
        "  M3si=(M3==\"si\").sum().sum()\n",
        "  M3no=(M3==\"no\").sum().sum()\n",
        "  print(archivo)\n",
        "  print(\"M3\")\n",
        "  print(\"Sis =\",M3si)\n",
        "  print(\"Nos =\",M3no)\n",
        "  print(\"Porcentaje de Cumplimiento:\", M3si /(M3si + M3no)*100 , \"%\" )\n",
        "\n",
        "  M4=df.iloc[106:128, 6:14]\n",
        "  M4si=(M4==\"si\").sum().sum()\n",
        "  M4no=(M4==\"no\").sum().sum()\n",
        "  print(archivo)\n",
        "  print(\"M4\")\n",
        "  print(\"Sis =\",M4si)\n",
        "  print(\"Nos =\",M4no)\n",
        "  print(\"Porcentaje de Cumplimiento:\", M4si /(M4si + M4no)*100 , \"%\" )"
      ],
      "metadata": {
        "colab": {
          "base_uri": "https://localhost:8080/"
        },
        "id": "aezBsyz12eFH",
        "outputId": "72d80826-dde9-4e94-c15f-9e3296bf584a"
      },
      "execution_count": 18,
      "outputs": [
        {
          "output_type": "stream",
          "name": "stderr",
          "text": [
            "/usr/local/lib/python3.7/dist-packages/openpyxl/worksheet/_reader.py:312: UserWarning: Data Validation extension is not supported and will be removed\n",
            "  warn(msg)\n",
            "/usr/local/lib/python3.7/dist-packages/ipykernel_launcher.py:19: RuntimeWarning: invalid value encountered in long_scalars\n",
            "/usr/local/lib/python3.7/dist-packages/ipykernel_launcher.py:28: RuntimeWarning: invalid value encountered in long_scalars\n",
            "/usr/local/lib/python3.7/dist-packages/ipykernel_launcher.py:37: RuntimeWarning: invalid value encountered in long_scalars\n"
          ]
        },
        {
          "output_type": "stream",
          "name": "stdout",
          "text": [
            "D_Aculco.xlsm\n",
            "M1\n",
            "Sis = 3\n",
            "Nos = 9\n",
            "Porcentaje de Cumplimiento: 25.0 %\n",
            "D_Aculco.xlsm\n",
            "M2\n",
            "Sis = 0\n",
            "Nos = 0\n",
            "Porcentaje de Cumplimiento: nan %\n",
            "D_Aculco.xlsm\n",
            "M3\n",
            "Sis = 0\n",
            "Nos = 0\n",
            "Porcentaje de Cumplimiento: nan %\n",
            "D_Aculco.xlsm\n",
            "M4\n",
            "Sis = 0\n",
            "Nos = 0\n",
            "Porcentaje de Cumplimiento: nan %\n",
            "D_AcambaydeRuízCastañeda.xlsm\n",
            "M1\n",
            "Sis = 35\n",
            "Nos = 26\n",
            "Porcentaje de Cumplimiento: 57.377049180327866 %\n",
            "D_AcambaydeRuízCastañeda.xlsm\n",
            "M2\n",
            "Sis = 1\n",
            "Nos = 1\n",
            "Porcentaje de Cumplimiento: 50.0 %\n",
            "D_AcambaydeRuízCastañeda.xlsm\n",
            "M3\n",
            "Sis = 2\n",
            "Nos = 1\n",
            "Porcentaje de Cumplimiento: 66.66666666666666 %\n",
            "D_AcambaydeRuízCastañeda.xlsm\n",
            "M4\n",
            "Sis = 2\n",
            "Nos = 2\n",
            "Porcentaje de Cumplimiento: 50.0 %\n"
          ]
        }
      ]
    },
    {
      "cell_type": "code",
      "source": [
        ""
      ],
      "metadata": {
        "id": "9iHFuf5S2hnX"
      },
      "execution_count": null,
      "outputs": []
    }
  ]
}